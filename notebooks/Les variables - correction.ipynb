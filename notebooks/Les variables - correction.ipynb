{
 "cells": [
  {
   "cell_type": "markdown",
   "id": "e68ab0ad",
   "metadata": {},
   "source": [
    "# Excercices"
   ]
  },
  {
   "cell_type": "markdown",
   "id": "ec80d892",
   "metadata": {},
   "source": [
    "Attribuer la valeur \"do\" à une variables"
   ]
  },
  {
   "cell_type": "code",
   "execution_count": 5,
   "id": "94dd1349",
   "metadata": {},
   "outputs": [],
   "source": [
    "ma_variable = \"do\""
   ]
  },
  {
   "cell_type": "markdown",
   "id": "2678047f",
   "metadata": {},
   "source": [
    "Attribuer la valeur \"mi\" à une autre variables"
   ]
  },
  {
   "cell_type": "code",
   "execution_count": 6,
   "id": "cd533465",
   "metadata": {},
   "outputs": [],
   "source": [
    "ma_variable_2 = \"mi\""
   ]
  },
  {
   "cell_type": "markdown",
   "id": "5e5625ac",
   "metadata": {},
   "source": [
    "Attribuez la valeur \"sol\" à une autre variables"
   ]
  },
  {
   "cell_type": "code",
   "execution_count": 9,
   "id": "a9fe4f98",
   "metadata": {},
   "outputs": [],
   "source": [
    "ma_variable_3 = \"sol\""
   ]
  },
  {
   "cell_type": "markdown",
   "id": "fc33d286",
   "metadata": {},
   "source": [
    "Utilisez les variables creer précédemment pour creer une liste qui contient les notes de l'accord de do"
   ]
  },
  {
   "cell_type": "code",
   "execution_count": 44,
   "id": "4d709e26",
   "metadata": {},
   "outputs": [],
   "source": [
    "accord_do = [ma_variable, ma_variable_2, ma_variable_3]"
   ]
  },
  {
   "cell_type": "markdown",
   "id": "663d3990",
   "metadata": {},
   "source": [
    "Attibuez la valeur \"si\" à un autre variable"
   ]
  },
  {
   "cell_type": "code",
   "execution_count": 30,
   "id": "41417a07",
   "metadata": {},
   "outputs": [],
   "source": [
    "ma_variable_4 = \"si\""
   ]
  },
  {
   "cell_type": "markdown",
   "id": "21429e9d",
   "metadata": {},
   "source": [
    "Attribuez la valeur \"ré\" à une autre variables"
   ]
  },
  {
   "cell_type": "code",
   "execution_count": 29,
   "id": "f6b0d496",
   "metadata": {},
   "outputs": [],
   "source": [
    "ma_variable_5 = \"ré\""
   ]
  },
  {
   "cell_type": "markdown",
   "id": "185a7bb6",
   "metadata": {},
   "source": [
    "Utilisez les variables crées précédemment pour créer une liste qui contient les notes de l'accord de sol"
   ]
  },
  {
   "cell_type": "code",
   "execution_count": 33,
   "id": "91b7e39e",
   "metadata": {},
   "outputs": [
    {
     "data": {
      "text/plain": [
       "['sol', 'si', 'ré']"
      ]
     },
     "execution_count": 33,
     "metadata": {},
     "output_type": "execute_result"
    }
   ],
   "source": [
    "accord_sol = [ma_variable_3, ma_variable_4, ma_variable_5]\n",
    "accord_sol"
   ]
  },
  {
   "cell_type": "markdown",
   "id": "23b14341",
   "metadata": {},
   "source": [
    "Utilisez les variables crées précédemment pour créer une liste qui contient les notes de l'accord de mi mineur"
   ]
  },
  {
   "cell_type": "code",
   "execution_count": 35,
   "id": "065e862e",
   "metadata": {},
   "outputs": [
    {
     "data": {
      "text/plain": [
       "['mi', 'sol', 'si']"
      ]
     },
     "execution_count": 35,
     "metadata": {},
     "output_type": "execute_result"
    }
   ],
   "source": [
    "accord_mi_mineur = [ma_variable_2, ma_variable_3, ma_variable_4]\n",
    "accord_mi_mineur"
   ]
  },
  {
   "cell_type": "markdown",
   "id": "05a7e977",
   "metadata": {},
   "source": [
    "Ca devient un peu tannant de créer des variables pour chacune des notes.\n",
    "\n",
    "Creez une liste avec la gamme chromatique (qui commence avec Do) qu'on pourra réutiliser aux questions suivantes."
   ]
  },
  {
   "cell_type": "code",
   "execution_count": 17,
   "id": "0f86ce18",
   "metadata": {},
   "outputs": [],
   "source": [
    "gamme_chromatique_diese_style = [\"do\",\"do#\",\"ré\",\"ré#\",\"mi\",\"fa\",\"fa#\",\"sol\",\"sol#\",\"la\",\"la#\",\"si\"]\n",
    "gamme_chromatique_bemol_style = [\"do\",\"réb\",\"ré\",\"mib\",\"mi\",\"fa\",\"solb\",\"sol\",\"lab\",\"la\",\"sib\",\"si\"]\n",
    "gamme_chromatique_moonlightsonata_style = [\"si#\",\"do#\",\"ré\",\"ré#\",\"mi\",\"mi#\",\"fa#\",\"sol\",\"sol#\",\"la\",\"la#\",\"si\"]\n",
    "\n",
    "gamme_chromatique = gamme_chromatique_diese_style"
   ]
  },
  {
   "cell_type": "markdown",
   "id": "57ff9401",
   "metadata": {},
   "source": [
    "A partir de la liste gamme_chromatique, creez une liste qui contient les notes de l'accord de do. \n",
    "\n",
    "Nommez cette variable différemment de celle qui contient l'accord de do créer plus tôt !"
   ]
  },
  {
   "cell_type": "code",
   "execution_count": 41,
   "id": "34302fb4",
   "metadata": {},
   "outputs": [
    {
     "data": {
      "text/plain": [
       "['do', 'mi', 'sol']"
      ]
     },
     "execution_count": 41,
     "metadata": {},
     "output_type": "execute_result"
    }
   ],
   "source": [
    "accord_do_chromatique = [gamme_chromatique[0], gamme_chromatique[4], gamme_chromatique[7]]\n",
    "accord_do_chromatique"
   ]
  },
  {
   "cell_type": "markdown",
   "id": "a7a3f6a4",
   "metadata": {},
   "source": [
    "Est-ce que les deux accords de do sont les même selon python?"
   ]
  },
  {
   "cell_type": "code",
   "execution_count": 45,
   "id": "d3871c9a",
   "metadata": {},
   "outputs": [
    {
     "data": {
      "text/plain": [
       "True"
      ]
     },
     "execution_count": 45,
     "metadata": {},
     "output_type": "execute_result"
    }
   ],
   "source": [
    "accord_do_chromatique == accord_do"
   ]
  },
  {
   "cell_type": "markdown",
   "id": "62dfacf0",
   "metadata": {},
   "source": [
    "A partir de la liste gamme_chromatique, creez une liste qui contient les notes de l'accord de ré"
   ]
  },
  {
   "cell_type": "code",
   "execution_count": 20,
   "id": "eff91540",
   "metadata": {},
   "outputs": [
    {
     "data": {
      "text/plain": [
       "['ré', 'fa#', 'la']"
      ]
     },
     "execution_count": 20,
     "metadata": {},
     "output_type": "execute_result"
    }
   ],
   "source": [
    "accord_ré = [gamme_chromatique[2], gamme_chromatique[6], gamme_chromatique[9]]\n",
    "accord_ré"
   ]
  },
  {
   "cell_type": "markdown",
   "id": "7de2a3af",
   "metadata": {},
   "source": [
    "A partir de la liste gamme chromatique, créez une liste qui contient les notes de l'accord de mi"
   ]
  },
  {
   "cell_type": "code",
   "execution_count": 37,
   "id": "73ca4531",
   "metadata": {},
   "outputs": [
    {
     "data": {
      "text/plain": [
       "['mi', 'sol#', 'si']"
      ]
     },
     "execution_count": 37,
     "metadata": {},
     "output_type": "execute_result"
    }
   ],
   "source": [
    "accord_mi = [gamme_chromatique[4], gamme_chromatique[8], gamme_chromatique[11]]\n",
    "accord_mi"
   ]
  },
  {
   "cell_type": "markdown",
   "id": "c7d9b4fa",
   "metadata": {},
   "source": [
    "A partir de la liste gamme chromatique, créez une liste qui contient les notes de l'accord de fa. \n",
    "\n",
    "Il commence à y avoir un pattern n'est-ce pas? Mais attention, ça n'ira pas comme prévu ! Pourquoi? Hint: Operateur Modulo"
   ]
  },
  {
   "cell_type": "code",
   "execution_count": 65,
   "id": "83d460e1",
   "metadata": {},
   "outputs": [
    {
     "data": {
      "text/plain": [
       "['fa', 'la', 'do']"
      ]
     },
     "execution_count": 65,
     "metadata": {},
     "output_type": "execute_result"
    }
   ],
   "source": [
    "accord_fa = [gamme_chromatique[5], gamme_chromatique[9], gamme_chromatique[12 % 12]]\n",
    "accord_fa"
   ]
  },
  {
   "cell_type": "markdown",
   "id": "dbc0648b",
   "metadata": {},
   "source": [
    "A quelle position se trouve la note \"la\" dans la liste gamme chromatique?"
   ]
  },
  {
   "cell_type": "code",
   "execution_count": 51,
   "id": "6b40d70c",
   "metadata": {},
   "outputs": [
    {
     "data": {
      "text/plain": [
       "9"
      ]
     },
     "execution_count": 51,
     "metadata": {},
     "output_type": "execute_result"
    }
   ],
   "source": [
    "gamme_chromatique.index(\"la\")"
   ]
  },
  {
   "cell_type": "markdown",
   "id": "21c81b1f",
   "metadata": {},
   "source": [
    "Si j'attribue une note tonique aléatoire à une variable `note_aleatoire`, est-ce que je pourrait obtenir les notes qui composent son accord majeur? \n",
    "\n",
    "La réponse est oui, mais comment y arriver?"
   ]
  },
  {
   "cell_type": "code",
   "execution_count": 61,
   "id": "26ef92a1",
   "metadata": {},
   "outputs": [
    {
     "data": {
      "text/plain": [
       "['sol', 'si', 'ré']"
      ]
     },
     "execution_count": 61,
     "metadata": {},
     "output_type": "execute_result"
    }
   ],
   "source": [
    "note_aleatoire = \"sol\"\n",
    "\n",
    "position_tonique = gamme_chromatique.index(note_aleatoire)\n",
    "position_tierce =  (position_tonique + 4) % 12\n",
    "position_quinte =  (position_tierce + 3) % 12\n",
    "\n",
    "accord_aleatoire_majeur = [gamme_chromatique[position_tonique],gamme_chromatique[position_tierce], gamme_chromatique[position_quinte]]\n",
    "accord_aleatoire_majeur"
   ]
  },
  {
   "cell_type": "markdown",
   "id": "125fafdc",
   "metadata": {},
   "source": [
    "Vous décider que de jouer les bonnes notes c'est trop compliqué pour vous et vous désirez jouer du Jazz. Cependant la gamme chromatique n'a pas les bonnes notes.\n",
    "\n",
    "Créez un tableau associatifs dans la variable `converteur_gamme` qui permet d'entrer une note classique et d'obtenir une note de paysan (les lettres)"
   ]
  },
  {
   "cell_type": "code",
   "execution_count": 62,
   "id": "940574c3",
   "metadata": {},
   "outputs": [],
   "source": [
    "converteur_gamme = {\n",
    "    \"do\":\"C\",\n",
    "    \"do#\":\"C#\",\n",
    "    \"ré\":\"D\",\n",
    "    \"ré#\":\"D#\",\n",
    "    \"mi\":\"E\",\n",
    "    \"fa\":\"F\",\n",
    "    \"fa#\":\"F#\",\n",
    "    \"sol\":\"G\",\n",
    "    \"sol#\":\"G#\",\n",
    "    \"la\":\"A\",\n",
    "    \"la#\":\"A#\",\n",
    "    \"si\":\"B\",\n",
    "}"
   ]
  },
  {
   "cell_type": "markdown",
   "id": "06caba63",
   "metadata": {},
   "source": [
    "Utilisez votre `converteur_gamme` pour convertir chacune des notes de l'accord de do"
   ]
  },
  {
   "cell_type": "code",
   "execution_count": 64,
   "id": "3341af9c",
   "metadata": {},
   "outputs": [
    {
     "data": {
      "text/plain": [
       "['C', 'E', 'G']"
      ]
     },
     "execution_count": 64,
     "metadata": {},
     "output_type": "execute_result"
    }
   ],
   "source": [
    "[converteur_gamme[accord_do[0]], converteur_gamme[accord_do[1]], converteur_gamme[accord_do[2]]]"
   ]
  }
 ],
 "metadata": {
  "kernelspec": {
   "display_name": "Python 3 (ipykernel)",
   "language": "python",
   "name": "python3"
  },
  "language_info": {
   "codemirror_mode": {
    "name": "ipython",
    "version": 3
   },
   "file_extension": ".py",
   "mimetype": "text/x-python",
   "name": "python",
   "nbconvert_exporter": "python",
   "pygments_lexer": "ipython3",
   "version": "3.8.10"
  }
 },
 "nbformat": 4,
 "nbformat_minor": 5
}
