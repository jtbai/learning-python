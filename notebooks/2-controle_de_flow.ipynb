{
 "cells": [
  {
   "cell_type": "markdown",
   "id": "d6eb47e4",
   "metadata": {},
   "source": [
    "### On creer une variable qui comprends la gamme de Do Majeur"
   ]
  },
  {
   "cell_type": "code",
   "execution_count": 8,
   "id": "7cc63dc7",
   "metadata": {},
   "outputs": [],
   "source": [
    "gamme_do_majeur = [\"do\", \"ré\", \"mi\", \"fa\", \"sol\", \"la\", \"si\"]"
   ]
  },
  {
   "cell_type": "markdown",
   "id": "4362fa36",
   "metadata": {},
   "source": [
    "### on creer une variable qui contient la gamme chromatique à partir de Do"
   ]
  },
  {
   "cell_type": "code",
   "execution_count": 9,
   "id": "58216bf9",
   "metadata": {},
   "outputs": [],
   "source": [
    "gamme_chromatique_do = [\"do\", \"do#\", \"ré\", \"ré#\", \"mi\", \"fa\",\"fa#\", \"sol\", \"sol#\", \"la\", \"la#\", \"si\"]"
   ]
  },
  {
   "cell_type": "markdown",
   "id": "0dde86c1",
   "metadata": {},
   "source": [
    "### Créeer une liste qui contient les notes d'un accord quelconque (à 3 ou 4 sons) (pas de renversement)"
   ]
  },
  {
   "cell_type": "code",
   "execution_count": null,
   "id": "786195a6",
   "metadata": {},
   "outputs": [],
   "source": [
    "accord_quelconque = [\"do\", \"mi\", \"sol\"]"
   ]
  },
  {
   "cell_type": "markdown",
   "id": "4ea2d3cd",
   "metadata": {},
   "source": [
    "### Si cet accord n'as que 3 sons, ajoutez une 4e notes (7e) \n",
    "#### assurez vous que le code fonctionnera peu importe l'accord spécifié ci-haut."
   ]
  },
  {
   "cell_type": "code",
   "execution_count": null,
   "id": "f348f4cf",
   "metadata": {},
   "outputs": [],
   "source": [
    "if len(accord_quelconque) == 3:\n",
    "    tonique = \n",
    "    accord_quelconque.append()"
   ]
  },
  {
   "cell_type": "markdown",
   "id": "17172c95",
   "metadata": {},
   "source": [
    "### Pour toutes les notes de la gamme de do, est-ce qu'on peut avoir les notes qui composent leur accord majeur à 3 notes"
   ]
  },
  {
   "cell_type": "code",
   "execution_count": 14,
   "id": "6d788786",
   "metadata": {},
   "outputs": [
    {
     "name": "stdout",
     "output_type": "stream",
     "text": [
      "do : do mi sol\n",
      "ré : ré fa# la\n",
      "mi : mi sol# si\n",
      "fa : fa la do\n",
      "sol : sol si ré\n",
      "la : la do# mi\n",
      "si : si ré# fa#\n"
     ]
    }
   ],
   "source": [
    "for note_tonique in gamme_do_majeur:\n",
    "    position_note_tonique = gamme_chromatique_do.index(note_tonique)\n",
    "    tonique = note_tonique\n",
    "    tierce = gamme_chromatique_do[(position_note_tonique + 4) % 12]\n",
    "    quinte = gamme_chromatique_do[(position_note_tonique + 7) % 12]\n",
    "    \n",
    "    print(tonique, \":\", tonique , tierce, quinte)"
   ]
  },
  {
   "cell_type": "code",
   "execution_count": null,
   "id": "ef11ed60",
   "metadata": {},
   "outputs": [],
   "source": [
    "# A partir de do, "
   ]
  }
 ],
 "metadata": {
  "kernelspec": {
   "display_name": "Python 3 (ipykernel)",
   "language": "python",
   "name": "python3"
  },
  "language_info": {
   "codemirror_mode": {
    "name": "ipython",
    "version": 3
   },
   "file_extension": ".py",
   "mimetype": "text/x-python",
   "name": "python",
   "nbconvert_exporter": "python",
   "pygments_lexer": "ipython3",
   "version": "3.8.10"
  }
 },
 "nbformat": 4,
 "nbformat_minor": 5
}
