{
 "cells": [
  {
   "cell_type": "markdown",
   "id": "16b8896f",
   "metadata": {},
   "source": [
    "# Excercices"
   ]
  },
  {
   "cell_type": "markdown",
   "id": "048db233",
   "metadata": {},
   "source": [
    "Attribuer la valeur \"do\" à une variables"
   ]
  },
  {
   "cell_type": "code",
   "execution_count": null,
   "id": "077d1b5f",
   "metadata": {},
   "outputs": [],
   "source": []
  },
  {
   "cell_type": "markdown",
   "id": "ec88e57f",
   "metadata": {},
   "source": [
    "Attribuer la valeur \"mi\" à une autre variables"
   ]
  },
  {
   "cell_type": "code",
   "execution_count": 6,
   "id": "536b5968",
   "metadata": {},
   "outputs": [],
   "source": []
  },
  {
   "cell_type": "markdown",
   "id": "42eef2e2",
   "metadata": {},
   "source": [
    "Attribuez la valeur \"sol\" à une autre variables"
   ]
  },
  {
   "cell_type": "code",
   "execution_count": 9,
   "id": "d3ec9201",
   "metadata": {},
   "outputs": [],
   "source": []
  },
  {
   "cell_type": "markdown",
   "id": "d21d042d",
   "metadata": {},
   "source": [
    "Utilisez les variables creér précédemment pour creer une liste qui contient les notes de l'accord de do"
   ]
  },
  {
   "cell_type": "code",
   "execution_count": 44,
   "id": "58cebdb3",
   "metadata": {},
   "outputs": [],
   "source": []
  },
  {
   "cell_type": "markdown",
   "id": "dc773d86",
   "metadata": {},
   "source": [
    "Attibuez la valeur \"si\" à un autre variable"
   ]
  },
  {
   "cell_type": "code",
   "execution_count": 30,
   "id": "4e556b1b",
   "metadata": {},
   "outputs": [],
   "source": []
  },
  {
   "cell_type": "markdown",
   "id": "4ef8737f",
   "metadata": {},
   "source": [
    "Attribuez la valeur \"ré\" à une autre variables"
   ]
  },
  {
   "cell_type": "code",
   "execution_count": 29,
   "id": "815e2fa4",
   "metadata": {},
   "outputs": [],
   "source": []
  },
  {
   "cell_type": "markdown",
   "id": "12cbeefc",
   "metadata": {},
   "source": [
    "Utilisez les variables crées précédemment pour créer une liste qui contient les notes de l'accord de sol"
   ]
  },
  {
   "cell_type": "code",
   "execution_count": null,
   "id": "2c1de316",
   "metadata": {},
   "outputs": [],
   "source": []
  },
  {
   "cell_type": "markdown",
   "id": "a38f7dcb",
   "metadata": {},
   "source": [
    "Utilisez les variables crées précédemment pour créer une liste qui contient les notes de l'accord de mi mineur"
   ]
  },
  {
   "cell_type": "code",
   "execution_count": null,
   "id": "bba66220",
   "metadata": {},
   "outputs": [],
   "source": []
  },
  {
   "cell_type": "markdown",
   "id": "c700e922",
   "metadata": {},
   "source": [
    "Ca devient un peu tannant de créer des variables pour chacune des notes.\n",
    "\n",
    "Creez une liste avec la gamme chromatique (qui commence avec Do) qu'on pourra réutiliser aux questions suivantes."
   ]
  },
  {
   "cell_type": "code",
   "execution_count": null,
   "id": "6ae0ea82",
   "metadata": {},
   "outputs": [],
   "source": []
  },
  {
   "cell_type": "markdown",
   "id": "be9afefd",
   "metadata": {},
   "source": [
    "A partir de la liste gamme_chromatique, creez une liste qui contient les notes de l'accord de do. \n",
    "\n",
    "Nommez cette variable différemment de celle qui contient l'accord de do créer plus tôt !"
   ]
  },
  {
   "cell_type": "code",
   "execution_count": null,
   "id": "97549473",
   "metadata": {},
   "outputs": [],
   "source": []
  },
  {
   "cell_type": "markdown",
   "id": "5d0d2515",
   "metadata": {},
   "source": [
    "Est-ce que les deux accords de do sont les même selon python?"
   ]
  },
  {
   "cell_type": "code",
   "execution_count": null,
   "id": "d3187d28",
   "metadata": {},
   "outputs": [],
   "source": []
  },
  {
   "cell_type": "markdown",
   "id": "09f77a44",
   "metadata": {},
   "source": [
    "A partir de la liste gamme_chromatique, creez une liste qui contient les notes de l'accord de ré"
   ]
  },
  {
   "cell_type": "code",
   "execution_count": null,
   "id": "8ace05c7",
   "metadata": {},
   "outputs": [],
   "source": []
  },
  {
   "cell_type": "markdown",
   "id": "94d5696c",
   "metadata": {},
   "source": [
    "A partir de la liste gamme chromatique, créez une liste qui contient les notes de l'accord de mi"
   ]
  },
  {
   "cell_type": "code",
   "execution_count": null,
   "id": "5c9b6ca1",
   "metadata": {},
   "outputs": [],
   "source": []
  },
  {
   "cell_type": "markdown",
   "id": "aac9232f",
   "metadata": {},
   "source": [
    "A partir de la liste gamme chromatique, créez une liste qui contient les notes de l'accord de fa. \n",
    "\n",
    "Il commence à y avoir un pattern n'est-ce pas? Mais attention, ça n'ira pas comme prévu ! Pourquoi? Hint: Operateur Modulo"
   ]
  },
  {
   "cell_type": "code",
   "execution_count": null,
   "id": "60b85d95",
   "metadata": {},
   "outputs": [],
   "source": []
  },
  {
   "cell_type": "markdown",
   "id": "8db13530",
   "metadata": {},
   "source": [
    "A quelle position se trouve la note \"la\" dans la liste gamme chromatique?"
   ]
  },
  {
   "cell_type": "code",
   "execution_count": null,
   "id": "b3062196",
   "metadata": {},
   "outputs": [],
   "source": []
  },
  {
   "cell_type": "markdown",
   "id": "fc9c39dc",
   "metadata": {},
   "source": [
    "Si j'attribue une note tonique aléatoire à une variable `note_aleatoire`, est-ce que je pourrait obtenir les notes qui composent son accord majeur? \n",
    "\n",
    "La réponse est oui, mais comment y arriver?"
   ]
  },
  {
   "cell_type": "code",
   "execution_count": null,
   "id": "192fcf73",
   "metadata": {},
   "outputs": [],
   "source": []
  },
  {
   "cell_type": "markdown",
   "id": "d2d35861",
   "metadata": {},
   "source": [
    "Vous décider que de jouer les bonnes notes c'est trop compliqué pour vous et vous désirez jouer du Jazz. Cependant la gamme chromatique n'a pas les bonnes notes.\n",
    "\n",
    "Créez un tableau associatifs dans la variable `converteur_gamme` qui permet d'entrer une note classique et d'obtenir une note de paysan (les lettres)"
   ]
  },
  {
   "cell_type": "code",
   "execution_count": null,
   "id": "b7df6afa",
   "metadata": {},
   "outputs": [],
   "source": []
  },
  {
   "cell_type": "markdown",
   "id": "0847a4b4",
   "metadata": {},
   "source": [
    "Utilisez votre `converteur_gamme` pour convertir chacune des notes de l'accord de do"
   ]
  },
  {
   "cell_type": "code",
   "execution_count": null,
   "id": "eed4ae23",
   "metadata": {},
   "outputs": [],
   "source": []
  }
 ],
 "metadata": {
  "kernelspec": {
   "display_name": "Python 3 (ipykernel)",
   "language": "python",
   "name": "python3"
  },
  "language_info": {
   "codemirror_mode": {
    "name": "ipython",
    "version": 3
   },
   "file_extension": ".py",
   "mimetype": "text/x-python",
   "name": "python",
   "nbconvert_exporter": "python",
   "pygments_lexer": "ipython3",
   "version": "3.8.10"
  }
 },
 "nbformat": 4,
 "nbformat_minor": 5
}
